{
 "cells": [
  {
   "cell_type": "code",
   "execution_count": 1,
   "id": "5f5b5574",
   "metadata": {
    "scrolled": false
   },
   "outputs": [
    {
     "name": "stdout",
     "output_type": "stream",
     "text": [
      "Requirement already satisfied: geopandas in c:\\users\\admin\\appdata\\local\\programs\\python\\python311\\lib\\site-packages (0.13.2)\n",
      "Requirement already satisfied: shapely in c:\\users\\admin\\appdata\\local\\programs\\python\\python311\\lib\\site-packages (2.0.1)\n",
      "Requirement already satisfied: pykml in c:\\users\\admin\\appdata\\local\\programs\\python\\python311\\lib\\site-packages (0.2.0)\n",
      "Requirement already satisfied: fiona>=1.8.19 in c:\\users\\admin\\appdata\\local\\programs\\python\\python311\\lib\\site-packages (from geopandas) (1.9.4.post1)\n",
      "Requirement already satisfied: packaging in c:\\users\\admin\\appdata\\local\\programs\\python\\python311\\lib\\site-packages (from geopandas) (23.1)\n",
      "Requirement already satisfied: pandas>=1.1.0 in c:\\users\\admin\\appdata\\local\\programs\\python\\python311\\lib\\site-packages (from geopandas) (2.0.2)\n",
      "Requirement already satisfied: pyproj>=3.0.1 in c:\\users\\admin\\appdata\\local\\programs\\python\\python311\\lib\\site-packages (from geopandas) (3.6.0)\n",
      "Requirement already satisfied: numpy>=1.14 in c:\\users\\admin\\appdata\\local\\programs\\python\\python311\\lib\\site-packages (from shapely) (1.25.0)\n",
      "Requirement already satisfied: lxml>=3.3.6 in c:\\users\\admin\\appdata\\local\\programs\\python\\python311\\lib\\site-packages (from pykml) (4.9.2)\n",
      "Requirement already satisfied: attrs>=19.2.0 in c:\\users\\admin\\appdata\\local\\programs\\python\\python311\\lib\\site-packages (from fiona>=1.8.19->geopandas) (23.1.0)\n",
      "Requirement already satisfied: certifi in c:\\users\\admin\\appdata\\local\\programs\\python\\python311\\lib\\site-packages (from fiona>=1.8.19->geopandas) (2023.5.7)\n",
      "Requirement already satisfied: click~=8.0 in c:\\users\\admin\\appdata\\local\\programs\\python\\python311\\lib\\site-packages (from fiona>=1.8.19->geopandas) (8.1.3)\n",
      "Requirement already satisfied: click-plugins>=1.0 in c:\\users\\admin\\appdata\\local\\programs\\python\\python311\\lib\\site-packages (from fiona>=1.8.19->geopandas) (1.1.1)\n",
      "Requirement already satisfied: cligj>=0.5 in c:\\users\\admin\\appdata\\local\\programs\\python\\python311\\lib\\site-packages (from fiona>=1.8.19->geopandas) (0.7.2)\n",
      "Requirement already satisfied: six in c:\\users\\admin\\appdata\\local\\programs\\python\\python311\\lib\\site-packages (from fiona>=1.8.19->geopandas) (1.16.0)\n",
      "Requirement already satisfied: python-dateutil>=2.8.2 in c:\\users\\admin\\appdata\\local\\programs\\python\\python311\\lib\\site-packages (from pandas>=1.1.0->geopandas) (2.8.2)\n",
      "Requirement already satisfied: pytz>=2020.1 in c:\\users\\admin\\appdata\\local\\programs\\python\\python311\\lib\\site-packages (from pandas>=1.1.0->geopandas) (2023.3)\n",
      "Requirement already satisfied: tzdata>=2022.1 in c:\\users\\admin\\appdata\\local\\programs\\python\\python311\\lib\\site-packages (from pandas>=1.1.0->geopandas) (2023.3)\n",
      "Requirement already satisfied: colorama in c:\\users\\admin\\appdata\\local\\programs\\python\\python311\\lib\\site-packages (from click~=8.0->fiona>=1.8.19->geopandas) (0.4.6)\n"
     ]
    }
   ],
   "source": [
    "!pip install geopandas shapely pykml\n"
   ]
  },
  {
   "cell_type": "code",
   "execution_count": 2,
   "id": "40888443",
   "metadata": {},
   "outputs": [],
   "source": [
    "from pykml import parser\n",
    "from shapely.geometry import Polygon, Point\n",
    "from shapely.ops import nearest_points\n",
    "\n"
   ]
  },
  {
   "cell_type": "code",
   "execution_count": 3,
   "id": "da1497ae",
   "metadata": {},
   "outputs": [],
   "source": [
    "def get_extremity_point(polygon1, polygon2, polygons_z):\n",
    "    \"\"\"Return the point in polygon1 that is nearest to polygon2.\"\"\"\n",
    "    nearest = nearest_points(polygon1, polygon2)\n",
    "    for polygon_z in polygons_z:\n",
    "        for point_z in polygon_z:\n",
    "            if (point_z[0] == nearest[0].x) and (point_z[1] == nearest[0].y):\n",
    "                return point_z"
   ]
  },
  {
   "cell_type": "code",
   "execution_count": 4,
   "id": "87f97513",
   "metadata": {},
   "outputs": [],
   "source": [
    "# Parse the KML file\n",
    "with open(r'C:\\Users\\Admin\\Downloads\\Data\\Data\\Site_UAE_v2.kml', 'r') as kml_file: #change the path as the kml file_path\n",
    "    doc = parser.parse(kml_file).getroot().Document"
   ]
  },
  {
   "cell_type": "code",
   "execution_count": 5,
   "id": "189957de",
   "metadata": {},
   "outputs": [],
   "source": [
    "# Extract the polygons from the KML file\n",
    "polygons = []\n",
    "polygons_z = []\n",
    "for placemark in doc.Placemark:\n",
    "    coordinates_text = placemark.Polygon.outerBoundaryIs.LinearRing.coordinates.text\n",
    "    coordinates = [(float(x), float(y)) for x, y, *z in (pt.split(',') for pt in coordinates_text.split())]\n",
    "    coordinates_z = [(float(x), float(y), float(z[0]) if z else 0) for x, y, *z in (pt.split(',') for pt in coordinates_text.split())]\n",
    "    polygons.append(Polygon(coordinates))\n",
    "    polygons_z.append(coordinates_z)"
   ]
  },
  {
   "cell_type": "code",
   "execution_count": 6,
   "id": "9c42728e",
   "metadata": {},
   "outputs": [],
   "source": [
    "# Get the extremity point for each pair of polygons\n",
    "substations = [get_extremity_point(polygons[i], polygons[i + 1], polygons_z) for i in range(len(polygons) - 1)]\n"
   ]
  },
  {
   "cell_type": "code",
   "execution_count": 7,
   "id": "23d8c36b",
   "metadata": {},
   "outputs": [],
   "source": [
    "# If there is only one polygon, find the point on it with the highest altitude\n",
    "if len(polygons) == 1:\n",
    "    substations.append(max(polygons_z[0], key=lambda x: x[2]))"
   ]
  },
  {
   "cell_type": "code",
   "execution_count": 8,
   "id": "d160dec0",
   "metadata": {},
   "outputs": [
    {
     "name": "stdout",
     "output_type": "stream",
     "text": [
      "Substation 1: Longitude: -110.12365948868883, Latitude: 34.759156187315455, Altitude: 0\n"
     ]
    }
   ],
   "source": [
    "# Print the substation positions\n",
    "for i, point in enumerate(substations, 1):\n",
    "    x, y, z = point\n",
    "    print(f'Substation {i}: Longitude: {x}, Latitude: {y}, Altitude: {z}')"
   ]
  },
  {
   "cell_type": "code",
   "execution_count": null,
   "id": "25bea100",
   "metadata": {},
   "outputs": [],
   "source": []
  }
 ],
 "metadata": {
  "kernelspec": {
   "display_name": "Python 3 (ipykernel)",
   "language": "python",
   "name": "python3"
  },
  "language_info": {
   "codemirror_mode": {
    "name": "ipython",
    "version": 3
   },
   "file_extension": ".py",
   "mimetype": "text/x-python",
   "name": "python",
   "nbconvert_exporter": "python",
   "pygments_lexer": "ipython3",
   "version": "3.11.4"
  }
 },
 "nbformat": 4,
 "nbformat_minor": 5
}
